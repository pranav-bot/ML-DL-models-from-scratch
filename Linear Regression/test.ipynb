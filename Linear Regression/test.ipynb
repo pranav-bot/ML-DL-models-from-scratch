{
 "cells": [
  {
   "cell_type": "code",
   "execution_count": 1,
   "metadata": {},
   "outputs": [],
   "source": [
    "import numpy as np\n",
    "import matplotlib.pyplot as plt\n",
    "from model import linear_regression_model\n",
    "data = np.loadtxt(\"data.txt\", delimiter = \",\")"
   ]
  },
  {
   "cell_type": "code",
   "execution_count": 2,
   "metadata": {},
   "outputs": [],
   "source": [
    "X = data[:, 0]\n",
    "Y = data[:, 1]\n"
   ]
  },
  {
   "cell_type": "code",
   "execution_count": 3,
   "metadata": {},
   "outputs": [],
   "source": [
    "X = np.vstack((np.ones((X.size, )), X)).T"
   ]
  },
  {
   "cell_type": "code",
   "execution_count": 4,
   "metadata": {},
   "outputs": [
    {
     "data": {
      "text/plain": [
       "array([[1.000e+00, 1.500e+03],\n",
       "       [1.000e+00, 1.700e+03],\n",
       "       [1.000e+00, 1.750e+03],\n",
       "       [1.000e+00, 1.800e+03],\n",
       "       [1.000e+00, 1.820e+03],\n",
       "       [1.000e+00, 1.920e+03],\n",
       "       [1.000e+00, 1.450e+03],\n",
       "       [1.000e+00, 1.590e+03],\n",
       "       [1.000e+00, 1.596e+03],\n",
       "       [1.000e+00, 1.623e+03],\n",
       "       [1.000e+00, 1.878e+03],\n",
       "       [1.000e+00, 1.658e+03],\n",
       "       [1.000e+00, 1.720e+03],\n",
       "       [1.000e+00, 1.985e+03],\n",
       "       [1.000e+00, 2.000e+03],\n",
       "       [1.000e+00, 2.100e+03],\n",
       "       [1.000e+00, 2.050e+03],\n",
       "       [1.000e+00, 1.990e+03],\n",
       "       [1.000e+00, 1.965e+03],\n",
       "       [1.000e+00, 1.970e+03],\n",
       "       [1.000e+00, 2.120e+03],\n",
       "       [1.000e+00, 2.200e+03],\n",
       "       [1.000e+00, 2.156e+03],\n",
       "       [1.000e+00, 1.269e+03],\n",
       "       [1.000e+00, 1.489e+03],\n",
       "       [1.000e+00, 1.785e+03],\n",
       "       [1.000e+00, 1.965e+03],\n",
       "       [1.000e+00, 1.948e+03],\n",
       "       [1.000e+00, 2.008e+03],\n",
       "       [1.000e+00, 2.079e+03],\n",
       "       [1.000e+00, 2.116e+03],\n",
       "       [1.000e+00, 2.230e+03],\n",
       "       [1.000e+00, 2.200e+03],\n",
       "       [1.000e+00, 2.220e+03],\n",
       "       [1.000e+00, 2.365e+03],\n",
       "       [1.000e+00, 2.325e+03],\n",
       "       [1.000e+00, 2.396e+03],\n",
       "       [1.000e+00, 2.489e+03],\n",
       "       [1.000e+00, 2.420e+03],\n",
       "       [1.000e+00, 2.398e+03],\n",
       "       [1.000e+00, 2.350e+03],\n",
       "       [1.000e+00, 2.375e+03],\n",
       "       [1.000e+00, 2.236e+03],\n",
       "       [1.000e+00, 2.347e+03],\n",
       "       [1.000e+00, 2.459e+03]])"
      ]
     },
     "execution_count": 4,
     "metadata": {},
     "output_type": "execute_result"
    }
   ],
   "source": [
    "X"
   ]
  },
  {
   "cell_type": "code",
   "execution_count": 5,
   "metadata": {},
   "outputs": [],
   "source": [
    "Y = Y.reshape(Y.size, 1)"
   ]
  },
  {
   "cell_type": "code",
   "execution_count": 6,
   "metadata": {},
   "outputs": [
    {
     "data": {
      "image/png": "[encoded data removed]",
      "text/plain": [
       "<Figure size 432x288 with 1 Axes>"
      ]
     },
     "metadata": {
      "needs_background": "light"
     },
     "output_type": "display_data"
    }
   ],
   "source": [
    "plt.scatter(X[:, 1], Y)\n",
    "plt.show()"
   ]
  },
  {
   "cell_type": "code",
   "execution_count": 7,
   "metadata": {},
   "outputs": [
    {
     "data": {
      "text/plain": [
       "array([[158900.],\n",
       "       [169850.],\n",
       "       [178950.],\n",
       "       [178650.],\n",
       "       [180000.],\n",
       "       [186850.],\n",
       "       [150000.],\n",
       "       [149870.],\n",
       "       [158620.],\n",
       "       [159990.],\n",
       "       [189680.],\n",
       "       [168980.],\n",
       "       [170000.],\n",
       "       [190000.],\n",
       "       [198510.],\n",
       "       [200000.],\n",
       "       [193580.],\n",
       "       [200000.],\n",
       "       [195180.],\n",
       "       [198680.],\n",
       "       [201650.],\n",
       "       [220000.],\n",
       "       [216510.],\n",
       "       [138550.],\n",
       "       [149850.],\n",
       "       [179850.],\n",
       "       [196280.],\n",
       "       [195680.],\n",
       "       [200000.],\n",
       "       [205880.],\n",
       "       [210000.],\n",
       "       [220000.],\n",
       "       [219850.],\n",
       "       [222000.],\n",
       "       [235680.],\n",
       "       [239580.],\n",
       "       [240000.],\n",
       "       [248850.],\n",
       "       [245590.],\n",
       "       [240000.],\n",
       "       [236840.],\n",
       "       [230000.],\n",
       "       [226260.],\n",
       "       [220590.],\n",
       "       [239840.]])"
      ]
     },
     "execution_count": 7,
     "metadata": {},
     "output_type": "execute_result"
    }
   ],
   "source": [
    "Y"
   ]
  },
  {
   "cell_type": "code",
   "execution_count": 8,
   "metadata": {},
   "outputs": [
    {
     "name": "stderr",
     "output_type": "stream",
     "text": [
      "c:\\Users\\prana\\Documents\\ML models from scratch\\Linear Regression\\model.py:11: RuntimeWarning: overflow encountered in square\n",
      "  cost = (1/m)*np.sum(np.square(y_preds - Y))\n",
      "c:\\Users\\prana\\Documents\\ML models from scratch\\Linear Regression\\model.py:13: RuntimeWarning: overflow encountered in square\n",
      "  d_theta = (2/m)*np.sum(np.square(y_preds - Y))\n"
     ]
    }
   ],
   "source": [
    "theta = linear_regression_model(X,Y,0.000000005, 100)"
   ]
  },
  {
   "cell_type": "code",
   "execution_count": 9,
   "metadata": {},
   "outputs": [
    {
     "data": {
      "text/plain": [
       "array([-inf])"
      ]
     },
     "execution_count": 9,
     "metadata": {},
     "output_type": "execute_result"
    }
   ],
   "source": [
    "np.dot((1, 1567),theta)"
   ]
  }
 ],
 "metadata": {
  "kernelspec": {
   "display_name": "Python 3.10.5 64-bit",
   "language": "python",
   "name": "python3"
  },
  "language_info": {
   "codemirror_mode": {
    "name": "ipython",
    "version": 3
   },
   "file_extension": ".py",
   "mimetype": "text/x-python",
   "name": "python",
   "nbconvert_exporter": "python",
   "pygments_lexer": "ipython3",
   "version": "3.10.5"
  },
  "orig_nbformat": 4,
  "vscode": {
   "interpreter": {
    "hash": "77e3073e874291b649ea1ae468f40e14661899c710b9f0367d464a06647e4f0e"
   }
  }
 },
 "nbformat": 4,
 "nbformat_minor": 2
}
